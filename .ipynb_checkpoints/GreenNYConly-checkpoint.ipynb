{
 "cells": [
  {
   "cell_type": "code",
   "execution_count": 27,
   "metadata": {},
   "outputs": [],
   "source": [
    "import sys \n",
    "import pandas as pd \n",
    "import numpy as np\n",
    "import matplotlib as mpl\n",
    "import matplotlib.pyplot as plt \n",
    "import datetime as dt\n",
    "import seaborn as sns\n",
    "import statistics\n",
    "import statsmodels.formula.api as smf\n",
    "from sklearn.metrics import r2_score, mean_squared_error\n",
    "from sklearn.linear_model import LinearRegression\n",
    "import sklearn.metrics\n",
    "from sklearn.metrics import confusion_matrix, accuracy_score, r2_score\n",
    "from sklearn.model_selection import train_test_split"
   ]
  },
  {
   "cell_type": "code",
   "execution_count": 28,
   "metadata": {},
   "outputs": [],
   "source": [
    "green_nyc_only = pd.read_csv('green_nyc_only.csv', delimiter = ',', header = 0, low_memory=False)"
   ]
  },
  {
   "cell_type": "code",
   "execution_count": 29,
   "metadata": {},
   "outputs": [],
   "source": [
    "green_nyc_only_complete = green_nyc_only[(green_nyc_only['Project Status'] == 'Complete' )]"
   ]
  },
  {
   "cell_type": "code",
   "execution_count": 30,
   "metadata": {},
   "outputs": [
    {
     "data": {
      "text/html": [
       "<div>\n",
       "<style scoped>\n",
       "    .dataframe tbody tr th:only-of-type {\n",
       "        vertical-align: middle;\n",
       "    }\n",
       "\n",
       "    .dataframe tbody tr th {\n",
       "        vertical-align: top;\n",
       "    }\n",
       "\n",
       "    .dataframe thead th {\n",
       "        text-align: right;\n",
       "    }\n",
       "</style>\n",
       "<table border=\"1\" class=\"dataframe\">\n",
       "  <thead>\n",
       "    <tr style=\"text-align: right;\">\n",
       "      <th></th>\n",
       "      <th>Unnamed: 0</th>\n",
       "      <th>ZipCode</th>\n",
       "      <th>Days_to_complete</th>\n",
       "      <th>Less_than_180_days</th>\n",
       "      <th>Total Inverter Quantity</th>\n",
       "      <th>Total PV Module Quantity</th>\n",
       "      <th>ProjectCost</th>\n",
       "      <th>Incentive</th>\n",
       "      <th>After incentive</th>\n",
       "      <th>Total Nameplate kW DC</th>\n",
       "      <th>Expected KWh Annual Production</th>\n",
       "      <th>Expected monthly kWh production</th>\n",
       "    </tr>\n",
       "  </thead>\n",
       "  <tbody>\n",
       "    <tr>\n",
       "      <th>count</th>\n",
       "      <td>26669.000000</td>\n",
       "      <td>26669.000000</td>\n",
       "      <td>26669.000000</td>\n",
       "      <td>26669.000000</td>\n",
       "      <td>26646.000000</td>\n",
       "      <td>26640.000000</td>\n",
       "      <td>2.664800e+04</td>\n",
       "      <td>2.661700e+04</td>\n",
       "      <td>2.666900e+04</td>\n",
       "      <td>26669.000000</td>\n",
       "      <td>2.666800e+04</td>\n",
       "      <td>26669.000000</td>\n",
       "    </tr>\n",
       "    <tr>\n",
       "      <th>mean</th>\n",
       "      <td>56480.682965</td>\n",
       "      <td>10933.941993</td>\n",
       "      <td>-3876.272114</td>\n",
       "      <td>0.741985</td>\n",
       "      <td>9.705922</td>\n",
       "      <td>35.036824</td>\n",
       "      <td>4.707843e+04</td>\n",
       "      <td>7.761800e+03</td>\n",
       "      <td>3.929472e+04</td>\n",
       "      <td>12.520801</td>\n",
       "      <td>1.435098e+04</td>\n",
       "      <td>1195.912295</td>\n",
       "    </tr>\n",
       "    <tr>\n",
       "      <th>std</th>\n",
       "      <td>33688.817801</td>\n",
       "      <td>503.026261</td>\n",
       "      <td>12707.969008</td>\n",
       "      <td>0.437550</td>\n",
       "      <td>15.145828</td>\n",
       "      <td>212.539922</td>\n",
       "      <td>1.683311e+05</td>\n",
       "      <td>5.238912e+04</td>\n",
       "      <td>1.209490e+05</td>\n",
       "      <td>84.952366</td>\n",
       "      <td>1.008272e+05</td>\n",
       "      <td>8402.115609</td>\n",
       "    </tr>\n",
       "    <tr>\n",
       "      <th>min</th>\n",
       "      <td>1.000000</td>\n",
       "      <td>10001.000000</td>\n",
       "      <td>-44071.000000</td>\n",
       "      <td>0.000000</td>\n",
       "      <td>0.000000</td>\n",
       "      <td>0.000000</td>\n",
       "      <td>9.500000e+02</td>\n",
       "      <td>8.000000e+01</td>\n",
       "      <td>0.000000e+00</td>\n",
       "      <td>0.000000</td>\n",
       "      <td>0.000000e+00</td>\n",
       "      <td>0.000000</td>\n",
       "    </tr>\n",
       "    <tr>\n",
       "      <th>25%</th>\n",
       "      <td>15531.000000</td>\n",
       "      <td>10312.000000</td>\n",
       "      <td>43.000000</td>\n",
       "      <td>0.000000</td>\n",
       "      <td>1.000000</td>\n",
       "      <td>13.000000</td>\n",
       "      <td>1.822800e+04</td>\n",
       "      <td>1.340000e+03</td>\n",
       "      <td>1.638500e+04</td>\n",
       "      <td>4.200000</td>\n",
       "      <td>4.699000e+03</td>\n",
       "      <td>392.000000</td>\n",
       "    </tr>\n",
       "    <tr>\n",
       "      <th>50%</th>\n",
       "      <td>72118.000000</td>\n",
       "      <td>11215.000000</td>\n",
       "      <td>91.000000</td>\n",
       "      <td>1.000000</td>\n",
       "      <td>2.000000</td>\n",
       "      <td>18.000000</td>\n",
       "      <td>2.579244e+04</td>\n",
       "      <td>2.070000e+03</td>\n",
       "      <td>2.320600e+04</td>\n",
       "      <td>5.700000</td>\n",
       "      <td>6.325000e+03</td>\n",
       "      <td>527.000000</td>\n",
       "    </tr>\n",
       "    <tr>\n",
       "      <th>75%</th>\n",
       "      <td>89769.000000</td>\n",
       "      <td>11412.000000</td>\n",
       "      <td>185.000000</td>\n",
       "      <td>1.000000</td>\n",
       "      <td>16.000000</td>\n",
       "      <td>25.000000</td>\n",
       "      <td>3.681600e+04</td>\n",
       "      <td>3.780000e+03</td>\n",
       "      <td>3.310900e+04</td>\n",
       "      <td>7.880000</td>\n",
       "      <td>8.726000e+03</td>\n",
       "      <td>727.000000</td>\n",
       "    </tr>\n",
       "    <tr>\n",
       "      <th>max</th>\n",
       "      <td>109921.000000</td>\n",
       "      <td>11694.000000</td>\n",
       "      <td>2547.000000</td>\n",
       "      <td>1.000000</td>\n",
       "      <td>986.000000</td>\n",
       "      <td>17952.000000</td>\n",
       "      <td>1.155124e+07</td>\n",
       "      <td>4.254624e+06</td>\n",
       "      <td>7.296621e+06</td>\n",
       "      <td>7001.280000</td>\n",
       "      <td>7.913076e+06</td>\n",
       "      <td>659423.000000</td>\n",
       "    </tr>\n",
       "  </tbody>\n",
       "</table>\n",
       "</div>"
      ],
      "text/plain": [
       "          Unnamed: 0       ZipCode  Days_to_complete  Less_than_180_days  \\\n",
       "count   26669.000000  26669.000000      26669.000000        26669.000000   \n",
       "mean    56480.682965  10933.941993      -3876.272114            0.741985   \n",
       "std     33688.817801    503.026261      12707.969008            0.437550   \n",
       "min         1.000000  10001.000000     -44071.000000            0.000000   \n",
       "25%     15531.000000  10312.000000         43.000000            0.000000   \n",
       "50%     72118.000000  11215.000000         91.000000            1.000000   \n",
       "75%     89769.000000  11412.000000        185.000000            1.000000   \n",
       "max    109921.000000  11694.000000       2547.000000            1.000000   \n",
       "\n",
       "       Total Inverter Quantity  Total PV Module Quantity   ProjectCost  \\\n",
       "count             26646.000000              26640.000000  2.664800e+04   \n",
       "mean                  9.705922                 35.036824  4.707843e+04   \n",
       "std                  15.145828                212.539922  1.683311e+05   \n",
       "min                   0.000000                  0.000000  9.500000e+02   \n",
       "25%                   1.000000                 13.000000  1.822800e+04   \n",
       "50%                   2.000000                 18.000000  2.579244e+04   \n",
       "75%                  16.000000                 25.000000  3.681600e+04   \n",
       "max                 986.000000              17952.000000  1.155124e+07   \n",
       "\n",
       "          Incentive  After incentive  Total Nameplate kW DC  \\\n",
       "count  2.661700e+04     2.666900e+04           26669.000000   \n",
       "mean   7.761800e+03     3.929472e+04              12.520801   \n",
       "std    5.238912e+04     1.209490e+05              84.952366   \n",
       "min    8.000000e+01     0.000000e+00               0.000000   \n",
       "25%    1.340000e+03     1.638500e+04               4.200000   \n",
       "50%    2.070000e+03     2.320600e+04               5.700000   \n",
       "75%    3.780000e+03     3.310900e+04               7.880000   \n",
       "max    4.254624e+06     7.296621e+06            7001.280000   \n",
       "\n",
       "       Expected KWh Annual Production  Expected monthly kWh production  \n",
       "count                    2.666800e+04                     26669.000000  \n",
       "mean                     1.435098e+04                      1195.912295  \n",
       "std                      1.008272e+05                      8402.115609  \n",
       "min                      0.000000e+00                         0.000000  \n",
       "25%                      4.699000e+03                       392.000000  \n",
       "50%                      6.325000e+03                       527.000000  \n",
       "75%                      8.726000e+03                       727.000000  \n",
       "max                      7.913076e+06                    659423.000000  "
      ]
     },
     "execution_count": 30,
     "metadata": {},
     "output_type": "execute_result"
    }
   ],
   "source": [
    "green_nyc_only.describe()"
   ]
  },
  {
   "cell_type": "code",
   "execution_count": 32,
   "metadata": {},
   "outputs": [],
   "source": [
    "num_df = green_nyc_only[['ProjectCost', 'Days_to_complete', 'Less_than_180_days', 'Incentive']]"
   ]
  },
  {
   "cell_type": "code",
   "execution_count": 33,
   "metadata": {},
   "outputs": [
    {
     "data": {
      "image/png": "[encoded data removed]",
      "text/plain": [
       "<Figure size 288x288 with 1 Axes>"
      ]
     },
     "metadata": {
      "needs_background": "light"
     },
     "output_type": "display_data"
    },
    {
     "data": {
      "image/png": "[encoded data removed]",
      "text/plain": [
       "<Figure size 1368x1080 with 2 Axes>"
      ]
     },
     "metadata": {
      "needs_background": "light"
     },
     "output_type": "display_data"
    }
   ],
   "source": [
    "#Correlation Matrix\n",
    "plt.matshow(num_df.corr())\n",
    "\n",
    "f = plt.figure(figsize=(19, 15))\n",
    "plt.matshow(num_df.corr(), fignum=f.number)\n",
    "plt.xticks(range(num_df.shape[1]), num_df.columns, fontsize=14, rotation=45)\n",
    "plt.yticks(range(num_df.shape[1]), num_df.columns, fontsize=14)\n",
    "cb = plt.colorbar()\n",
    "cb.ax.tick_params(labelsize=14)\n",
    "plt.title('Correlation Matrix', fontsize=16, fontweight='bold')\n",
    "\n",
    "plt.show()"
   ]
  },
  {
   "cell_type": "code",
   "execution_count": 41,
   "metadata": {},
   "outputs": [
    {
     "data": {
      "text/plain": [
       "<matplotlib.axes._subplots.AxesSubplot at 0x23f4db0c1c8>"
      ]
     },
     "execution_count": 41,
     "metadata": {},
     "output_type": "execute_result"
    },
    {
     "data": {
      "image/png": "[encoded data removed]",
      "text/plain": [
       "<Figure size 432x288 with 1 Axes>"
      ]
     },
     "metadata": {
      "needs_background": "light"
     },
     "output_type": "display_data"
    }
   ],
   "source": [
    "sns.boxplot('Sector', 'ProjectCost', data=green_nyc_only)"
   ]
  },
  {
   "cell_type": "code",
   "execution_count": 42,
   "metadata": {},
   "outputs": [
    {
     "data": {
      "text/plain": [
       "array([ 9653,  7962,  6127, ..., 14444, 11022, 15126], dtype=int64)"
      ]
     },
     "execution_count": 42,
     "metadata": {},
     "output_type": "execute_result"
    }
   ],
   "source": [
    "from sklearn.preprocessing import LabelEncoder\n",
    "le = LabelEncoder().fit_transform(green_nyc_only['ProjectCost'])\n",
    "le"
   ]
  },
  {
   "cell_type": "code",
   "execution_count": 43,
   "metadata": {},
   "outputs": [
    {
     "data": {
      "text/html": [
       "<div>\n",
       "<style scoped>\n",
       "    .dataframe tbody tr th:only-of-type {\n",
       "        vertical-align: middle;\n",
       "    }\n",
       "\n",
       "    .dataframe tbody tr th {\n",
       "        vertical-align: top;\n",
       "    }\n",
       "\n",
       "    .dataframe thead th {\n",
       "        text-align: right;\n",
       "    }\n",
       "</style>\n",
       "<table border=\"1\" class=\"dataframe\">\n",
       "  <thead>\n",
       "    <tr style=\"text-align: right;\">\n",
       "      <th></th>\n",
       "      <th>Unnamed: 0</th>\n",
       "      <th>ProjectNumber</th>\n",
       "      <th>City</th>\n",
       "      <th>County</th>\n",
       "      <th>ZipCode</th>\n",
       "      <th>Sector</th>\n",
       "      <th>ProgramType</th>\n",
       "      <th>Solicitation</th>\n",
       "      <th>Electric Utility</th>\n",
       "      <th>PurchaseType</th>\n",
       "      <th>...</th>\n",
       "      <th>ProjectCost</th>\n",
       "      <th>Incentive</th>\n",
       "      <th>After incentive</th>\n",
       "      <th>PercentIncentive</th>\n",
       "      <th>Total Nameplate kW DC</th>\n",
       "      <th>Expected KWh Annual Production</th>\n",
       "      <th>Expected monthly kWh production</th>\n",
       "      <th>Affordable Solar</th>\n",
       "      <th>Community Distributed Generation</th>\n",
       "      <th>Green Jobs Green New York Participant</th>\n",
       "    </tr>\n",
       "  </thead>\n",
       "  <tbody>\n",
       "    <tr>\n",
       "      <th>0</th>\n",
       "      <td>1</td>\n",
       "      <td>221994</td>\n",
       "      <td>107-02 Sutter ave</td>\n",
       "      <td>Queens</td>\n",
       "      <td>11417</td>\n",
       "      <td>Residential</td>\n",
       "      <td>Residential/Small Commercial</td>\n",
       "      <td>PON 2112</td>\n",
       "      <td>Consolidated Edison</td>\n",
       "      <td>Lease</td>\n",
       "      <td>...</td>\n",
       "      <td>9653</td>\n",
       "      <td>1760.0</td>\n",
       "      <td>23811</td>\n",
       "      <td>7</td>\n",
       "      <td>5.87</td>\n",
       "      <td>6108.0</td>\n",
       "      <td>509</td>\n",
       "      <td>No</td>\n",
       "      <td>No</td>\n",
       "      <td>No</td>\n",
       "    </tr>\n",
       "    <tr>\n",
       "      <th>1</th>\n",
       "      <td>2</td>\n",
       "      <td>221967</td>\n",
       "      <td>93-06 208TH ST</td>\n",
       "      <td>Queens</td>\n",
       "      <td>11428</td>\n",
       "      <td>Residential</td>\n",
       "      <td>Residential/Small Commercial</td>\n",
       "      <td>PON 2112</td>\n",
       "      <td>Consolidated Edison</td>\n",
       "      <td>Lease</td>\n",
       "      <td>...</td>\n",
       "      <td>7962</td>\n",
       "      <td>1552.0</td>\n",
       "      <td>21218</td>\n",
       "      <td>7</td>\n",
       "      <td>5.18</td>\n",
       "      <td>5358.0</td>\n",
       "      <td>447</td>\n",
       "      <td>No</td>\n",
       "      <td>No</td>\n",
       "      <td>No</td>\n",
       "    </tr>\n",
       "    <tr>\n",
       "      <th>2</th>\n",
       "      <td>239</td>\n",
       "      <td>154309</td>\n",
       "      <td>ALBANS</td>\n",
       "      <td>Queens</td>\n",
       "      <td>11412</td>\n",
       "      <td>Residential</td>\n",
       "      <td>Residential/Small Commercial</td>\n",
       "      <td>PON 2112</td>\n",
       "      <td>Consolidated Edison</td>\n",
       "      <td>Lease</td>\n",
       "      <td>...</td>\n",
       "      <td>6127</td>\n",
       "      <td>924.0</td>\n",
       "      <td>18974</td>\n",
       "      <td>5</td>\n",
       "      <td>3.90</td>\n",
       "      <td>4148.0</td>\n",
       "      <td>346</td>\n",
       "      <td>No</td>\n",
       "      <td>No</td>\n",
       "      <td>No</td>\n",
       "    </tr>\n",
       "    <tr>\n",
       "      <th>3</th>\n",
       "      <td>240</td>\n",
       "      <td>165528</td>\n",
       "      <td>Albans</td>\n",
       "      <td>New York</td>\n",
       "      <td>11413</td>\n",
       "      <td>Residential</td>\n",
       "      <td>Residential/Small Commercial</td>\n",
       "      <td>PON 2112</td>\n",
       "      <td>Consolidated Edison</td>\n",
       "      <td>Lease</td>\n",
       "      <td>...</td>\n",
       "      <td>17400</td>\n",
       "      <td>1775.0</td>\n",
       "      <td>50034</td>\n",
       "      <td>3</td>\n",
       "      <td>8.70</td>\n",
       "      <td>7989.0</td>\n",
       "      <td>666</td>\n",
       "      <td>No</td>\n",
       "      <td>No</td>\n",
       "      <td>No</td>\n",
       "    </tr>\n",
       "    <tr>\n",
       "      <th>4</th>\n",
       "      <td>2789</td>\n",
       "      <td>219528</td>\n",
       "      <td>Ardsley</td>\n",
       "      <td>Westchester</td>\n",
       "      <td>10025</td>\n",
       "      <td>Non-Residential</td>\n",
       "      <td>Residential/Small Commercial</td>\n",
       "      <td>PON 2112</td>\n",
       "      <td>Consolidated Edison</td>\n",
       "      <td>Purchase</td>\n",
       "      <td>...</td>\n",
       "      <td>19983</td>\n",
       "      <td>652344.0</td>\n",
       "      <td>1638471</td>\n",
       "      <td>28</td>\n",
       "      <td>948.64</td>\n",
       "      <td>1116338.0</td>\n",
       "      <td>93028</td>\n",
       "      <td>No</td>\n",
       "      <td>No</td>\n",
       "      <td>No</td>\n",
       "    </tr>\n",
       "  </tbody>\n",
       "</table>\n",
       "<p>5 rows × 32 columns</p>\n",
       "</div>"
      ],
      "text/plain": [
       "   Unnamed: 0 ProjectNumber               City       County  ZipCode  \\\n",
       "0           1        221994  107-02 Sutter ave       Queens    11417   \n",
       "1           2        221967     93-06 208TH ST       Queens    11428   \n",
       "2         239        154309             ALBANS       Queens    11412   \n",
       "3         240        165528             Albans     New York    11413   \n",
       "4        2789        219528            Ardsley  Westchester    10025   \n",
       "\n",
       "            Sector                   ProgramType Solicitation  \\\n",
       "0      Residential  Residential/Small Commercial     PON 2112   \n",
       "1      Residential  Residential/Small Commercial     PON 2112   \n",
       "2      Residential  Residential/Small Commercial     PON 2112   \n",
       "3      Residential  Residential/Small Commercial     PON 2112   \n",
       "4  Non-Residential  Residential/Small Commercial     PON 2112   \n",
       "\n",
       "      Electric Utility PurchaseType  ... ProjectCost Incentive  \\\n",
       "0  Consolidated Edison        Lease  ...        9653    1760.0   \n",
       "1  Consolidated Edison        Lease  ...        7962    1552.0   \n",
       "2  Consolidated Edison        Lease  ...        6127     924.0   \n",
       "3  Consolidated Edison        Lease  ...       17400    1775.0   \n",
       "4  Consolidated Edison     Purchase  ...       19983  652344.0   \n",
       "\n",
       "   After incentive  PercentIncentive Total Nameplate kW DC  \\\n",
       "0            23811                 7                  5.87   \n",
       "1            21218                 7                  5.18   \n",
       "2            18974                 5                  3.90   \n",
       "3            50034                 3                  8.70   \n",
       "4          1638471                28                948.64   \n",
       "\n",
       "  Expected KWh Annual Production Expected monthly kWh production  \\\n",
       "0                         6108.0                             509   \n",
       "1                         5358.0                             447   \n",
       "2                         4148.0                             346   \n",
       "3                         7989.0                             666   \n",
       "4                      1116338.0                           93028   \n",
       "\n",
       "  Affordable Solar  Community Distributed Generation  \\\n",
       "0               No                                No   \n",
       "1               No                                No   \n",
       "2               No                                No   \n",
       "3               No                                No   \n",
       "4               No                                No   \n",
       "\n",
       "  Green Jobs Green New York Participant  \n",
       "0                                    No  \n",
       "1                                    No  \n",
       "2                                    No  \n",
       "3                                    No  \n",
       "4                                    No  \n",
       "\n",
       "[5 rows x 32 columns]"
      ]
     },
     "execution_count": 43,
     "metadata": {},
     "output_type": "execute_result"
    }
   ],
   "source": [
    "green_nyc_only.loc[:, \"ProjectCost\"] = le\n",
    "green_nyc_only.head()"
   ]
  },
  {
   "cell_type": "code",
   "execution_count": 44,
   "metadata": {},
   "outputs": [
    {
     "data": {
      "text/plain": [
       "Index(['Unnamed: 0', 'ProjectNumber', 'City', 'County', 'ZipCode', 'Sector',\n",
       "       'ProgramType', 'Solicitation', 'Electric Utility', 'PurchaseType',\n",
       "       'Date Application Received', 'Date Completed', 'Days_to_complete',\n",
       "       'Less_than_180_days', 'Project Status', 'Contractor',\n",
       "       'Primary Inverter Manufacturer', 'Primary Inverter Model Number',\n",
       "       'Total Inverter Quantity', 'Primary PV Module Manufacturer',\n",
       "       'PV Module Model Number', 'Total PV Module Quantity', 'ProjectCost',\n",
       "       'Incentive', 'After incentive', 'PercentIncentive',\n",
       "       'Total Nameplate kW DC', 'Expected KWh Annual Production',\n",
       "       'Expected monthly kWh production', 'Affordable Solar',\n",
       "       'Community Distributed Generation',\n",
       "       'Green Jobs Green New York Participant'],\n",
       "      dtype='object')"
      ]
     },
     "execution_count": 44,
     "metadata": {},
     "output_type": "execute_result"
    }
   ],
   "source": [
    "green_nyc_only.columns"
   ]
  },
  {
   "cell_type": "code",
   "execution_count": 45,
   "metadata": {},
   "outputs": [],
   "source": [
    "formula2 = 'Less_than_180_days ~ C(Sector)+ ProjectCost + Incentive' "
   ]
  },
  {
   "cell_type": "code",
   "execution_count": 46,
   "metadata": {},
   "outputs": [
    {
     "name": "stdout",
     "output_type": "stream",
     "text": [
      "Optimization terminated successfully.\n",
      "         Current function value: 0.548125\n",
      "         Iterations 5\n"
     ]
    },
    {
     "data": {
      "text/html": [
       "<table class=\"simpletable\">\n",
       "<caption>Logit Regression Results</caption>\n",
       "<tr>\n",
       "  <th>Dep. Variable:</th>   <td>Less_than_180_days</td> <th>  No. Observations:  </th>   <td> 26617</td>  \n",
       "</tr>\n",
       "<tr>\n",
       "  <th>Model:</th>                  <td>Logit</td>       <th>  Df Residuals:      </th>   <td> 26613</td>  \n",
       "</tr>\n",
       "<tr>\n",
       "  <th>Method:</th>                  <td>MLE</td>        <th>  Df Model:          </th>   <td>     3</td>  \n",
       "</tr>\n",
       "<tr>\n",
       "  <th>Date:</th>             <td>Tue, 22 Sep 2020</td>  <th>  Pseudo R-squ.:     </th>   <td>0.04031</td> \n",
       "</tr>\n",
       "<tr>\n",
       "  <th>Time:</th>                 <td>11:11:15</td>      <th>  Log-Likelihood:    </th>  <td> -14589.</td> \n",
       "</tr>\n",
       "<tr>\n",
       "  <th>converged:</th>              <td>True</td>        <th>  LL-Null:           </th>  <td> -15202.</td> \n",
       "</tr>\n",
       "<tr>\n",
       "  <th>Covariance Type:</th>      <td>nonrobust</td>     <th>  LLR p-value:       </th> <td>2.185e-265</td>\n",
       "</tr>\n",
       "</table>\n",
       "<table class=\"simpletable\">\n",
       "<tr>\n",
       "              <td></td>                <th>coef</th>     <th>std err</th>      <th>z</th>      <th>P>|z|</th>  <th>[0.025</th>    <th>0.975]</th>  \n",
       "</tr>\n",
       "<tr>\n",
       "  <th>Intercept</th>                <td>    0.9147</td> <td>    0.073</td> <td>   12.485</td> <td> 0.000</td> <td>    0.771</td> <td>    1.058</td>\n",
       "</tr>\n",
       "<tr>\n",
       "  <th>C(Sector)[T.Residential]</th> <td>    0.8440</td> <td>    0.059</td> <td>   14.371</td> <td> 0.000</td> <td>    0.729</td> <td>    0.959</td>\n",
       "</tr>\n",
       "<tr>\n",
       "  <th>ProjectCost</th>              <td>-6.081e-05</td> <td> 2.87e-06</td> <td>  -21.181</td> <td> 0.000</td> <td>-6.64e-05</td> <td>-5.52e-05</td>\n",
       "</tr>\n",
       "<tr>\n",
       "  <th>Incentive</th>                <td>-4.192e-07</td> <td> 3.01e-07</td> <td>   -1.392</td> <td> 0.164</td> <td>-1.01e-06</td> <td> 1.71e-07</td>\n",
       "</tr>\n",
       "</table>"
      ],
      "text/plain": [
       "<class 'statsmodels.iolib.summary.Summary'>\n",
       "\"\"\"\n",
       "                           Logit Regression Results                           \n",
       "==============================================================================\n",
       "Dep. Variable:     Less_than_180_days   No. Observations:                26617\n",
       "Model:                          Logit   Df Residuals:                    26613\n",
       "Method:                           MLE   Df Model:                            3\n",
       "Date:                Tue, 22 Sep 2020   Pseudo R-squ.:                 0.04031\n",
       "Time:                        11:11:15   Log-Likelihood:                -14589.\n",
       "converged:                       True   LL-Null:                       -15202.\n",
       "Covariance Type:            nonrobust   LLR p-value:                2.185e-265\n",
       "============================================================================================\n",
       "                               coef    std err          z      P>|z|      [0.025      0.975]\n",
       "--------------------------------------------------------------------------------------------\n",
       "Intercept                    0.9147      0.073     12.485      0.000       0.771       1.058\n",
       "C(Sector)[T.Residential]     0.8440      0.059     14.371      0.000       0.729       0.959\n",
       "ProjectCost              -6.081e-05   2.87e-06    -21.181      0.000   -6.64e-05   -5.52e-05\n",
       "Incentive                -4.192e-07   3.01e-07     -1.392      0.164   -1.01e-06    1.71e-07\n",
       "============================================================================================\n",
       "\"\"\""
      ]
     },
     "execution_count": 46,
     "metadata": {},
     "output_type": "execute_result"
    }
   ],
   "source": [
    "model2 = smf.logit(formula = formula2, data=green_nyc_only).fit()\n",
    "model2.summary()"
   ]
  },
  {
   "cell_type": "code",
   "execution_count": 50,
   "metadata": {},
   "outputs": [
    {
     "data": {
      "text/plain": [
       "<matplotlib.axes._subplots.AxesSubplot at 0x23f57be8b48>"
      ]
     },
     "execution_count": 50,
     "metadata": {},
     "output_type": "execute_result"
    },
    {
     "data": {
      "image/png": "[encoded data removed]",
      "text/plain": [
       "<Figure size 432x288 with 1 Axes>"
      ]
     },
     "metadata": {
      "needs_background": "light"
     },
     "output_type": "display_data"
    }
   ],
   "source": [
    "sns.scatterplot(x='Date Application Received', y='Incentive', data=green_nyc_only)"
   ]
  },
  {
   "cell_type": "code",
   "execution_count": null,
   "metadata": {},
   "outputs": [],
   "source": []
  }
 ],
 "metadata": {
  "kernelspec": {
   "display_name": "Python 3",
   "language": "python",
   "name": "python3"
  },
  "language_info": {
   "codemirror_mode": {
    "name": "ipython",
    "version": 3
   },
   "file_extension": ".py",
   "mimetype": "text/x-python",
   "name": "python",
   "nbconvert_exporter": "python",
   "pygments_lexer": "ipython3",
   "version": "3.7.7"
  }
 },
 "nbformat": 4,
 "nbformat_minor": 4
}
